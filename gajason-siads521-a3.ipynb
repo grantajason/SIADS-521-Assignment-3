{
 "cells": [
  {
   "cell_type": "markdown",
   "metadata": {},
   "source": [
    "# Ann Arbor House Price Analysis"
   ]
  },
  {
   "cell_type": "markdown",
   "metadata": {},
   "source": [
    "By: Grant Jason\n",
    "\n",
    "For: SIADS 521, Assignment #3"
   ]
  },
  {
   "cell_type": "code",
   "execution_count": 211,
   "metadata": {},
   "outputs": [],
   "source": [
    "# All my import statements at the top of the notebook\n",
    "import requests\n",
    "import os\n",
    "import pandas as pd\n",
    "import numpy as np\n",
    "import matplotlib.pyplot as plt\n",
    "import matplotlib.ticker as mtick\n",
    "import seaborn as sns\n",
    "from matplotlib import style\n",
    "import matplotlib.dates as mdates\n",
    "import ipywidgets as widgets\n",
    "from ipywidgets import interactive, Dropdown, IntRangeSlider, interact\n",
    "from IPython.display import display, clear_output"
   ]
  },
  {
   "cell_type": "markdown",
   "metadata": {},
   "source": [
    "### Get data from zillow.com, save it to downloads so it can be open and modified, then prepare the data by melting columns into a single date column"
   ]
  },
  {
   "cell_type": "code",
   "execution_count": 212,
   "metadata": {},
   "outputs": [],
   "source": [
    "# Download the data, filter, and clean it\n",
    "url = 'https://files.zillowstatic.com/research/public_csvs/zhvi/Neighborhood_zhvi_uc_sfrcondo_tier_0.33_0.67_sm_sa_month.csv?t=1742155647'\n",
    "response = requests.get(url)\n",
    "\n",
    "# Define downloads as the directory to save the file\n",
    "writeable_directory = os.path.expanduser('~/Downloads')\n",
    "file_path = os.path.join(writeable_directory, 'Zillow Data')\n",
    "\n",
    "with open(file_path, 'wb') as file:\n",
    "    file.write(response.content)\n",
    "\n",
    "df = pd.read_csv(file_path)\n",
    "\n",
    "# Filter the data to only include Ann Arbor\n",
    "filtered_df = df[df['City'] == 'Ann Arbor']\n",
    "\n",
    "# Melt the data so all dates are in one column\n",
    "melted_df = pd.melt(filtered_df, id_vars=['RegionID', 'SizeRank', 'RegionName', 'RegionType', 'StateName', 'State', 'City' , 'Metro', 'CountyName'], \n",
    "                    var_name='Date', value_name='HomeValue')\n",
    "\n",
    "melted_df['Date'] = pd.to_datetime(melted_df['Date'])"
   ]
  },
  {
   "cell_type": "markdown",
   "metadata": {},
   "source": [
    "### First Chart: Average Home Price in Ann Arbor Over Time"
   ]
  },
  {
   "cell_type": "code",
   "execution_count": 213,
   "metadata": {},
   "outputs": [],
   "source": [
    "def create_chart_one(ax):\n",
    "\n",
    "    #prepare data for chart one\n",
    "    chart_one_df = melted_df.copy()\n",
    "    chart_one_df['Year'] = chart_one_df['Date'].dt.year\n",
    "    yearly_data = chart_one_df.groupby(['Year'])['HomeValue'].agg(['mean', 'std']).reset_index()\n",
    "\n",
    "    #plot chart 1\n",
    "    plt.style.use('fivethirtyeight')\n",
    "    ax.plot(yearly_data['Year'], yearly_data['mean'], label='Mean Home Value')\n",
    "    ax.fill_between(yearly_data['Year'], yearly_data['mean'] - yearly_data['std'], yearly_data['mean'] + yearly_data['std'], alpha=0.3)\n",
    "\n",
    "    #format y axis to be in $\n",
    "    fmt = mtick.StrMethodFormatter('${x:,.0f}')\n",
    "    ax.yaxis.set_major_formatter(fmt)\n",
    "\n",
    "    #other general formatting\n",
    "    ax.set_xlabel('Year', fontsize=10)\n",
    "    ax.set_xticks(yearly_data['Year'])\n",
    "    ax.set_xticklabels(yearly_data['Year'], fontsize=8, rotation=45)\n",
    "    ax.set_ylabel('Home Value', fontsize=10)\n",
    "    ax.set_yticks(ax.get_yticks())\n",
    "    ax.set_yticklabels(ax.get_yticklabels(), fontsize=8)\n",
    "    ax.set_title('Mean Home Value in Ann Arbor by Year', pad=20, fontsize=14)\n",
    "    ax.legend(['Mean Home Value', '+/- 1 Std Dev'])"
   ]
  },
  {
   "cell_type": "markdown",
   "metadata": {},
   "source": [
    "### Second Chart: Price of Homes by Neighboorhood Over Time"
   ]
  },
  {
   "cell_type": "code",
   "execution_count": 214,
   "metadata": {},
   "outputs": [],
   "source": [
    "def create_chart_two(ax): \n",
    "\n",
    "    #prepare data for chart 2\n",
    "    chart_two_df = melted_df.copy()\n",
    "    chart_two_df['Year'] = chart_two_df['Date'].dt.year\n",
    "    agg_df = chart_two_df.groupby(['RegionName', 'Year'])['HomeValue'].agg(['mean', 'std']).reset_index()\n",
    "    neighborhood_data = agg_df.pivot_table(values='mean', index='RegionName', columns='Year')\n",
    "\n",
    "    plt.style.use('fivethirtyeight')\n",
    "    sns.set_theme(style=style.library['fivethirtyeight'])\n",
    "\n",
    "    #use seaborn heatmap functionality\n",
    "    heatmap = sns.heatmap(neighborhood_data, cmap='magma', ax=ax)\n",
    "\n",
    "    #set color bar format to $\n",
    "    cbar = heatmap.collections[0].colorbar\n",
    "    cbar.ax.yaxis.set_major_formatter('${x:,.0f}')\n",
    "    cbar.ax.tick_params(labelsize=8)\n",
    "\n",
    "    #set titles and axis labels\n",
    "    ax.set_title('Home Prices by Neighborhood in Ann Arbor by Year', pad=25, fontsize=14)\n",
    "    ax.set_xlabel('Year', fontsize=10)\n",
    "    ax.set_xticks(ax.get_xticks())\n",
    "    ax.set_xticklabels(ax.get_xticklabels(), fontsize=8, rotation=45)\n",
    "    ax.set_ylabel('Neighborhood',fontsize=10)\n",
    "    ax.set_yticks(ax.get_yticks())\n",
    "    ax.set_yticklabels(ax.get_yticklabels(), fontsize=8)\n"
   ]
  },
  {
   "cell_type": "markdown",
   "metadata": {},
   "source": [
    "### Create the neighborhood selector that will be used in the next two charts"
   ]
  },
  {
   "cell_type": "code",
   "execution_count": null,
   "metadata": {},
   "outputs": [],
   "source": [
    "# create neighborhood selector\n",
    "\n",
    "neighborhoods = melted_df['RegionName'].unique()\n",
    "select_var = widgets.Dropdown(\n",
    "    options=neighborhoods,\n",
    "    description='Neighborhood:',\n",
    "    # set default value to barton hills like in the narrative document\n",
    "    value='Barton Hills',\n",
    "    disabled=False,\n",
    "    layout=widgets.Layout(width='20%'),\n",
    "    style={'description_width': 'initial'}\n",
    ")"
   ]
  },
  {
   "cell_type": "markdown",
   "metadata": {},
   "source": [
    "### Third Chart: Examining trends in each neighborhood over more granular timeline"
   ]
  },
  {
   "cell_type": "code",
   "execution_count": 216,
   "metadata": {},
   "outputs": [],
   "source": [
    "def create_chart_three(ax, neighborhood):\n",
    "\n",
    "    # prepare data for chart 3\n",
    "    chart_three_df = melted_df.copy()\n",
    "    chart_three_df['Month'] = chart_three_df['Date'].dt.to_period('M').dt.to_timestamp()\n",
    "    chart_three_df['Year'] = chart_three_df['Date'].dt.year\n",
    "\n",
    "    chart_three_df = chart_three_df[chart_three_df['RegionName'] == neighborhood]\n",
    "\n",
    "    plt.style.use('fivethirtyeight')\n",
    "    ax.plot(chart_three_df['Month'], chart_three_df['HomeValue'], label='Home Value')\n",
    "\n",
    "    #format y axis to be in $\n",
    "    fmt = mtick.StrMethodFormatter('${x:,.0f}')\n",
    "    ax.yaxis.set_major_formatter(fmt)\n",
    "\n",
    "    #format x axis to only show the years\n",
    "    ax.xaxis.set_major_locator(mdates.YearLocator())\n",
    "    ax.xaxis.set_major_formatter(mdates.DateFormatter('%Y'))\n",
    "\n",
    "    #other formatting\n",
    "    ax.set_ylim(0,1500000)\n",
    "    ax.set_xlabel('Date', fontsize=10)\n",
    "    ax.set_ylabel('Home Value', fontsize=10)\n",
    "    ax.set_xticks(ax.get_xticks())\n",
    "    ax.set_yticks(ax.get_yticks())\n",
    "    ax.set_xticklabels(ax.get_xticklabels(), fontsize=8, rotation=45)\n",
    "    ax.set_yticklabels(ax.get_yticklabels(), fontsize=8)\n",
    "    ax.set_title('Average Home Value in {} Over Time'.format(neighborhood), pad=20, fontsize=14)"
   ]
  },
  {
   "cell_type": "markdown",
   "metadata": {},
   "source": [
    "### Fourth Chart: Examining how a neighborhood's home value index is ditributed"
   ]
  },
  {
   "cell_type": "code",
   "execution_count": 217,
   "metadata": {},
   "outputs": [],
   "source": [
    "def create_chart_four(ax, neighborhood):\n",
    "    chart_four_df = melted_df.copy()\n",
    "    chart_four_df = chart_four_df[chart_four_df['RegionName'] == neighborhood]\n",
    "\n",
    "    plt.style.use('fivethirtyeight')\n",
    "    ax.hist(chart_four_df['HomeValue'], bins=25)\n",
    "\n",
    "    fmt = mtick.StrMethodFormatter('${x:,.0f}')\n",
    "    ax.xaxis.set_major_formatter(fmt)\n",
    "\n",
    "    #similar to chart 3, set consistent axis so comparison among neighborhoods is visually more clear\n",
    "    ax.set_xlim(0,1500000)\n",
    "    ax.set_ylabel('Count', fontsize=10)\n",
    "    ax.set_xlabel('Home Prices', fontsize=10)\n",
    "    ax.set_xticks(ax.get_xticks())\n",
    "    ax.set_yticks(ax.get_yticks())\n",
    "    ax.set_xticklabels(ax.get_xticklabels(), fontsize=8, rotation=45)\n",
    "    ax.set_yticklabels(ax.get_yticklabels(), fontsize=8)\n",
    "    ax.set_title('Distribution of Home Prices in {}'.format(neighborhood), pad=20, fontsize=14)"
   ]
  },
  {
   "cell_type": "markdown",
   "metadata": {},
   "source": [
    "### Create Dashboard"
   ]
  },
  {
   "cell_type": "code",
   "execution_count": null,
   "metadata": {},
   "outputs": [
    {
     "data": {
      "application/vnd.jupyter.widget-view+json": {
       "model_id": "5ac14083bce347f8ad9cdcf295cd6747",
       "version_major": 2,
       "version_minor": 0
      },
      "text/plain": [
       "interactive(children=(Dropdown(description='Neighborhood:', index=38, layout=Layout(width='20%'), options=('Bu…"
      ]
     },
     "execution_count": 218,
     "metadata": {},
     "output_type": "execute_result"
    }
   ],
   "source": [
    "def create_dashboard(value):\n",
    "\n",
    "    clear_output(wait=True)\n",
    "    plt.style.use('fivethirtyeight')\n",
    "    fig = plt.figure(figsize=(17,17))\n",
    "    gs = fig.add_gridspec(2,2)\n",
    "\n",
    "    ax1 = fig.add_subplot(gs[0, 0])\n",
    "    fig.sca(ax1)\n",
    "    create_chart_three(ax1, value)\n",
    "\n",
    "    ax2 = fig.add_subplot(gs[1, 0])\n",
    "    fig.sca(ax2)\n",
    "    create_chart_one(ax2)\n",
    "\n",
    "    ax3 = fig.add_subplot(gs[0, 1])\n",
    "    fig.sca(ax3)\n",
    "    create_chart_four(ax3, value)\n",
    "\n",
    "    ax4 = fig.add_subplot(gs[1, 1])\n",
    "    fig.sca(ax4)\n",
    "    create_chart_two(ax4)\n",
    "\n",
    "    plt.tight_layout(pad=3.0, w_pad=1, h_pad=1)\n",
    "    plt.show()\n",
    "\n",
    "interactive_dash = interactive(create_dashboard, value=select_var)\n",
    "interactive_dash"
   ]
  }
 ],
 "metadata": {
  "kernelspec": {
   "display_name": "Python 3",
   "language": "python",
   "name": "python3"
  },
  "language_info": {
   "codemirror_mode": {
    "name": "ipython",
    "version": 3
   },
   "file_extension": ".py",
   "mimetype": "text/x-python",
   "name": "python",
   "nbconvert_exporter": "python",
   "pygments_lexer": "ipython3",
   "version": "3.13.0"
  }
 },
 "nbformat": 4,
 "nbformat_minor": 2
}
