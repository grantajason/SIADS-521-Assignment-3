{
 "cells": [
  {
   "cell_type": "markdown",
   "metadata": {},
   "source": [
    "# Ann Arbor House Price Analysis"
   ]
  },
  {
   "cell_type": "markdown",
   "metadata": {},
   "source": [
    "By: Grant Jason\n",
    "\n",
    "For: SIADS 521, Assignment #3"
   ]
  },
  {
   "cell_type": "code",
   "execution_count": 76,
   "metadata": {},
   "outputs": [],
   "source": [
    "# All my import statements at the top of the notebook\n",
    "import requests\n",
    "import os\n",
    "import pandas as pd\n",
    "import numpy as np\n",
    "import matplotlib.pyplot as plt\n",
    "import matplotlib.ticker as mtick\n",
    "import seaborn as sns\n",
    "from matplotlib import style\n",
    "import matplotlib.dates as mdates\n",
    "import ipywidgets as widgets\n",
    "from ipywidgets import interactive, Dropdown, IntRangeSlider, interact\n",
    "from IPython.display import display, clear_output\n"
   ]
  },
  {
   "cell_type": "markdown",
   "metadata": {},
   "source": [
    "### Get data from zillow.com, save it to downloads so it can be open and modified, then prepare the data by melting columns into a single date column"
   ]
  },
  {
   "cell_type": "code",
   "execution_count": 78,
   "metadata": {},
   "outputs": [],
   "source": [
    "# Download the data, filter, and clean it\n",
    "url = 'https://files.zillowstatic.com/research/public_csvs/zhvi/Neighborhood_zhvi_uc_sfrcondo_tier_0.33_0.67_sm_sa_month.csv?t=1742155647'\n",
    "response = requests.get(url)\n",
    "\n",
    "# Define downloads as the directory to save the file\n",
    "writeable_directory = os.path.expanduser('~/Downloads')\n",
    "file_path = os.path.join(writeable_directory, 'Zillow Data')\n",
    "\n",
    "with open(file_path, 'wb') as file:\n",
    "    file.write(response.content)\n",
    "\n",
    "df = pd.read_csv(file_path)\n",
    "\n",
    "# Filter the data to only include Ann Arbor\n",
    "filtered_df = df[df['City'] == 'Ann Arbor']\n",
    "\n",
    "# Melt the data so all dates are in one column\n",
    "melted_df = pd.melt(filtered_df, id_vars=['RegionID', 'SizeRank', 'RegionName', 'RegionType', 'StateName', 'State', 'City' , 'Metro', 'CountyName'], \n",
    "                    var_name='Date', value_name='HomeValue')\n",
    "\n",
    "melted_df['Date'] = pd.to_datetime(melted_df['Date'])"
   ]
  },
  {
   "cell_type": "markdown",
   "metadata": {},
   "source": [
    "### First Chart: Average Home Price in Ann Arbor Over Time"
   ]
  },
  {
   "cell_type": "code",
   "execution_count": 81,
   "metadata": {},
   "outputs": [],
   "source": [
    "def create_chart_one():\n",
    "\n",
    "    # prepare data for chart one\n",
    "    chart_one_df = melted_df.copy()\n",
    "    chart_one_df['Year'] = chart_one_df['Date'].dt.year\n",
    "    yearly_data = chart_one_df.groupby(['Year'])['HomeValue'].agg(['mean', 'std']).reset_index()\n",
    "\n",
    "    #plot chart 1\n",
    "    plt.style.use('fivethirtyeight')\n",
    "    plt.figure(figsize=(10, 6))\n",
    "    plt.plot(yearly_data['Year'], yearly_data['mean'], label='Mean Home Value')\n",
    "    plt.fill_between(yearly_data['Year'], yearly_data['mean'] - yearly_data['std'], yearly_data['mean'] + yearly_data['std'], alpha=0.3)\n",
    "\n",
    "    # format y axis to be in $\n",
    "    fmt = mtick.StrMethodFormatter('${x:,.0f}')\n",
    "    plt.gca().yaxis.set_major_formatter(fmt)\n",
    "\n",
    "    # other general formatting\n",
    "    plt.xlabel('Year')\n",
    "    plt.xticks(fontsize=10, rotation=45)\n",
    "    plt.ylabel('Home Value')\n",
    "    plt.title('Mean Home Value in Ann Arbor by Year', pad=20)\n",
    "    plt.legend(['Mean Home Value', '+/- 1 Std Dev'])"
   ]
  },
  {
   "cell_type": "markdown",
   "metadata": {},
   "source": [
    "### Second Chart: Price of Homes by Neighboorhood Over Time"
   ]
  },
  {
   "cell_type": "code",
   "execution_count": 71,
   "metadata": {},
   "outputs": [],
   "source": [
    "def create_chart_two(): \n",
    "\n",
    "    #prepare data for chart 2\n",
    "    chart_two_df = melted_df.copy()\n",
    "    chart_two_df['Year'] = chart_two_df['Date'].dt.year\n",
    "    agg_df = chart_two_df.groupby(['RegionName', 'Year'])['HomeValue'].agg(['mean', 'std']).reset_index()\n",
    "    neighborhood_data = agg_df.pivot_table(values='mean', index='RegionName', columns='Year')\n",
    "\n",
    "    plt.style.use('fivethirtyeight')\n",
    "    plt.figure(figsize=(10,12))\n",
    "    sns.set_theme(style=style.library['fivethirtyeight'])\n",
    "\n",
    "    # use seaborn heatmap functionality\n",
    "    heatmap = sns.heatmap(neighborhood_data, cmap='magma')\n",
    "\n",
    "    # set color bar format to $\n",
    "    cbar = heatmap.collections[0].colorbar\n",
    "    cbar.ax.yaxis.set_major_formatter('${x:,.0f}')\n",
    "\n",
    "    # set titles and axis labels\n",
    "    plt.title('Home Prices by Neighborhood in Ann Arbor by Year', pad=25)\n",
    "    plt.xlabel('Year')\n",
    "    plt.xticks(fontsize=10, rotation=45)\n",
    "    plt.ylabel('Neighborhood')"
   ]
  },
  {
   "cell_type": "markdown",
   "metadata": {},
   "source": [
    "### Create the neighborhood selector that will be used in the next two charts"
   ]
  },
  {
   "cell_type": "code",
   "execution_count": 82,
   "metadata": {},
   "outputs": [],
   "source": [
    "# create neighborhood selector\n",
    "\n",
    "neighborhoods = melted_df['RegionName'].unique()\n",
    "select_var = widgets.Dropdown(\n",
    "    options=neighborhoods,\n",
    "    description='Neighborhood:',\n",
    "    # set default value to barton hills like in the narrative document\n",
    "    value='Barton Hills',\n",
    "    disabled=False,\n",
    "    layout=widgets.Layout(width='20%'),\n",
    "    style={\n",
    "        'description_width': 'initial',\n",
    "        'font_size': '14px',\n",
    "        'color': 'black', \n",
    "        'font_weight': 'bold'\n",
    "    }\n",
    ")"
   ]
  },
  {
   "cell_type": "markdown",
   "metadata": {},
   "source": [
    "### Third Chart: Examining trends in each neighborhood over more granular timeline"
   ]
  },
  {
   "cell_type": "code",
   "execution_count": 74,
   "metadata": {},
   "outputs": [],
   "source": [
    "def create_chart_three(neighborhood):\n",
    "\n",
    "    # prepare data for chart 3\n",
    "    chart_three_df = melted_df.copy()\n",
    "    chart_three_df['Month'] = chart_three_df['Date'].dt.to_period('M').dt.to_timestamp()\n",
    "    chart_three_df['Year'] = chart_three_df['Date'].dt.year\n",
    "\n",
    "    chart_three_df = chart_three_df[chart_three_df['RegionName'] == neighborhood]\n",
    "\n",
    "    plt.style.use('fivethirtyeight')\n",
    "    plt.figure(figsize=(10,6))\n",
    "    plt.plot(chart_three_df['Month'], chart_three_df['HomeValue'], label='Home Value')\n",
    "\n",
    "    # format y axis to be in $\n",
    "    fmt = mtick.StrMethodFormatter('${x:,.0f}')\n",
    "    plt.gca().yaxis.set_major_formatter(fmt)\n",
    "\n",
    "    #format x axis to only show the years\n",
    "    plt.gca().xaxis.set_major_locator(mdates.YearLocator())\n",
    "    plt.gca().xaxis.set_major_formatter(mdates.DateFormatter('%Y'))\n",
    "\n",
    "    plt.xlabel('Date')\n",
    "    plt.xticks(fontsize=10, rotation=45)\n",
    "    # set y lim so we can visualize consistent comparisons among different selections\n",
    "    plt.ylim(0,1500000)\n",
    "    plt.ylabel('Home Value')\n",
    "    plt.title('ZHVI for {} neighborhood in Ann Arbor'.format(neighborhood), pad=20)\n",
    "    plt.legend(['Zillow Home Value Index'])"
   ]
  },
  {
   "cell_type": "markdown",
   "metadata": {},
   "source": [
    "### Fourth Chart: Examining how a neighborhood's home value index is ditributed"
   ]
  },
  {
   "cell_type": "code",
   "execution_count": null,
   "metadata": {},
   "outputs": [],
   "source": [
    "def create_chart_four(neighborhood):\n",
    "    "
   ]
  }
 ],
 "metadata": {
  "kernelspec": {
   "display_name": "Python 3",
   "language": "python",
   "name": "python3"
  },
  "language_info": {
   "codemirror_mode": {
    "name": "ipython",
    "version": 3
   },
   "file_extension": ".py",
   "mimetype": "text/x-python",
   "name": "python",
   "nbconvert_exporter": "python",
   "pygments_lexer": "ipython3",
   "version": "3.13.0"
  }
 },
 "nbformat": 4,
 "nbformat_minor": 2
}
