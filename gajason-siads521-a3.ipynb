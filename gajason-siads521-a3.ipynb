{
 "cells": [
  {
   "cell_type": "markdown",
   "metadata": {},
   "source": [
    "# Ann Arbor House Prices\n",
    "## Grant Jason, SIADS 521 Assignment 3"
   ]
  },
  {
   "cell_type": "code",
   "execution_count": 16,
   "metadata": {},
   "outputs": [],
   "source": [
    "import requests\n",
    "import os\n",
    "import pandas as pd\n",
    "import numpy as np\n",
    "import matplotlib.pyplot as plt\n",
    "import seaborn as sns\n",
    "from ipywidgets import interact, interactive, Dropdown, IntRangeSlider\n",
    "from IPython.display import display, clear_output"
   ]
  },
  {
   "cell_type": "code",
   "execution_count": null,
   "metadata": {},
   "outputs": [],
   "source": [
    "# Download the data, filter, and clean it\n",
    "url = 'https://files.zillowstatic.com/research/public_csvs/zhvi/Neighborhood_zhvi_uc_sfrcondo_tier_0.33_0.67_sm_sa_month.csv?t=1742155647'\n",
    "response = requests.get(url)\n",
    "\n",
    "# Define downloads as the directory to save the file\n",
    "writeable_directory = os.path.expanduser('~/Downloads')\n",
    "file_path = os.path.join(writeable_directory, 'gajason Zillow Data')\n",
    "\n",
    "with open(file_path, 'wb') as file:\n",
    "    file.write(response.content)\n",
    "\n",
    "df = pd.read_csv(file_path)\n",
    "\n",
    "# Filter the data to only include Ann Arbor\n",
    "filtered_df = df[df['City'] == 'Ann Arbor']\n",
    "\n",
    "# Melt the data so all dates are in one column\n",
    "melted_df = pd.melt(filtered_df, id_vars=['RegionID', 'SizeRank', 'RegionName', 'RegionType', 'StateName', 'State', 'City' , 'Metro', 'CountyName'], \n",
    "                    var_name='Date', value_name='HomeValue')\n",
    "\n",
    "cleaned_file_path = os.path.join(writeable_directory, 'cleaned_gajason_Zillow_Data.csv')\n",
    "melted_df.to_csv(cleaned_file_path, index=False)"
   ]
  }
 ],
 "metadata": {
  "kernelspec": {
   "display_name": "Python 3",
   "language": "python",
   "name": "python3"
  },
  "language_info": {
   "codemirror_mode": {
    "name": "ipython",
    "version": 3
   },
   "file_extension": ".py",
   "mimetype": "text/x-python",
   "name": "python",
   "nbconvert_exporter": "python",
   "pygments_lexer": "ipython3",
   "version": "3.13.0"
  }
 },
 "nbformat": 4,
 "nbformat_minor": 2
}
